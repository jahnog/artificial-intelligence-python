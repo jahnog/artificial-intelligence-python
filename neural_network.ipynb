{
 "metadata": {
  "language_info": {
   "codemirror_mode": {
    "name": "ipython",
    "version": 3
   },
   "file_extension": ".py",
   "mimetype": "text/x-python",
   "name": "python",
   "nbconvert_exporter": "python",
   "pygments_lexer": "ipython3",
   "version": "3.8.8"
  },
  "orig_nbformat": 2,
  "kernelspec": {
   "name": "python388jvsc74a57bd0cf8cd7b9d9729a69e355ba433e658c2b1bd402d6067d224ac5b6cecdc2049b2d",
   "display_name": "Python 3.8.8 64-bit ('base': conda)"
  },
  "metadata": {
   "interpreter": {
    "hash": "cf8cd7b9d9729a69e355ba433e658c2b1bd402d6067d224ac5b6cecdc2049b2d"
   }
  }
 },
 "nbformat": 4,
 "nbformat_minor": 2,
 "cells": [
  {
   "cell_type": "code",
   "execution_count": 1,
   "metadata": {},
   "outputs": [],
   "source": [
    "from models import FourLayerModel\n",
    "from data import DataSource"
   ]
  },
  {
   "cell_type": "code",
   "execution_count": 2,
   "metadata": {},
   "outputs": [],
   "source": [
    "X_train, Y_train, X_test, Y_test, desc = DataSource().get_training_data()"
   ]
  },
  {
   "cell_type": "code",
   "execution_count": 4,
   "metadata": {},
   "outputs": [],
   "source": [
    "TRAIN_EPOCHS = 15001\n",
    "LEARNING_RATE = 0.001\n",
    "PRINT_EACH = 1000"
   ]
  },
  {
   "cell_type": "code",
   "execution_count": 5,
   "metadata": {},
   "outputs": [],
   "source": [
    "nn = FourLayerModel(X_train.shape[0], 5, 4)"
   ]
  },
  {
   "cell_type": "code",
   "execution_count": 6,
   "metadata": {},
   "outputs": [
    {
     "output_type": "stream",
     "name": "stdout",
     "text": [
      "Cost after iteration 0: 601.210960 \n",
      "Cost after iteration 1000: 7.917978 \n",
      "Cost after iteration 2000: 7.495592 \n",
      "Cost after iteration 3000: 6.847989 \n",
      "Cost after iteration 4000: 6.512429 \n",
      "Cost after iteration 5000: 6.316242 \n",
      "Cost after iteration 6000: 6.199060 \n",
      "Cost after iteration 7000: 6.104805 \n",
      "Cost after iteration 8000: 6.063787 \n",
      "Cost after iteration 9000: 6.036635 \n",
      "Cost after iteration 10000: 6.019376 \n",
      "Cost after iteration 11000: 6.007958 \n",
      "Cost after iteration 12000: 5.997156 \n",
      "Cost after iteration 13000: 5.990236 \n",
      "Cost after iteration 14000: 5.984817 \n",
      "Cost after iteration 15000: 5.979764 \n"
     ]
    }
   ],
   "source": [
    "for i in range(0, TRAIN_EPOCHS):\n",
    "    predictions = nn.forward_propagation(X_train)\n",
    "    cost = nn.calculate_cost(predictions, Y_train)\n",
    "\n",
    "    nn.backward_propagation(X_train, Y_train)\n",
    "\n",
    "    nn.update_weights(LEARNING_RATE)\n",
    "\n",
    "    if (i) % PRINT_EACH == 0:\n",
    "        print(\"Cost after iteration %i: %f \" % (i, cost))"
   ]
  },
  {
   "cell_type": "code",
   "execution_count": 7,
   "metadata": {},
   "outputs": [
    {
     "output_type": "stream",
     "name": "stdout",
     "text": [
      "Predictions:  [[29 26 30 32 25 28 42 34 29 28]]\nReal Values:  [[26 22 32 36 27 27 44 32 28 31]]\n"
     ]
    }
   ],
   "source": [
    "test_predictions = nn.forward_propagation(X_test)\n",
    "\n",
    "print(\"Predictions: \", test_predictions.astype(int))\n",
    "print(\"Real Values: \", Y_test.astype(int))"
   ]
  },
  {
   "cell_type": "code",
   "execution_count": null,
   "metadata": {},
   "outputs": [],
   "source": []
  }
 ]
}